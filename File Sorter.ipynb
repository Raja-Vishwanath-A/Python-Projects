{
 "cells": [
  {
   "cell_type": "code",
   "execution_count": null,
   "id": "78433752",
   "metadata": {},
   "outputs": [],
   "source": [
    "import os,shutil"
   ]
  },
  {
   "cell_type": "code",
   "execution_count": null,
   "id": "95d0bd84",
   "metadata": {},
   "outputs": [],
   "source": [
    "path = r\"C:/Users/RV/Desktop/Data Analyst/Python Files/Automatic File Sorter/\""
   ]
  },
  {
   "cell_type": "markdown",
   "id": "f0a0fe3f",
   "metadata": {},
   "source": [
    "1) Notice that we have used forward slashes for path because backward slash gives an error"
   ]
  },
  {
   "cell_type": "code",
   "execution_count": null,
   "id": "493b8663",
   "metadata": {},
   "outputs": [],
   "source": [
    "file_name = os.listdir(path)\n",
    "print(file_name)\n",
    "folder_names = ['doc files', 'png files', 'pdf files']"
   ]
  },
  {
   "cell_type": "markdown",
   "id": "e2ee6ae7",
   "metadata": {},
   "source": [
    "1) Notice that file_name array should only contain pdf files to be moved, not the folder destinations\n",
    "2) Hence avoid running it after the for loop below is excecuted\n",
    "3) If you want to rerun the program move all files back into 'path' and delete the empty folders created by the for loop below, such that file_name only has files to be moved "
   ]
  },
  {
   "cell_type": "code",
   "execution_count": null,
   "id": "1da1728a",
   "metadata": {},
   "outputs": [],
   "source": [
    "for loop in range(0,3) :\n",
    "    if not os.path.exists(path + folder_names[loop]) :\n",
    "        print(path + folder_names[loop])\n",
    "        os.makedirs(path + folder_names[loop])"
   ]
  },
  {
   "cell_type": "code",
   "execution_count": null,
   "id": "00ddfe0c",
   "metadata": {},
   "outputs": [],
   "source": [
    "for file in file_name :\n",
    "    if ('.docx' in file) and not os.path.exists(path + 'doc files/'+ file) :\n",
    "        shutil.move(path + file, path + 'doc files/'+ file)\n",
    "    elif ('.png' in file) and not os.path.exists(path + 'png files/'+ file) :\n",
    "        shutil.move(path + file, path + 'png files/'+ file)\n",
    "    elif ('pdf' in file) and not os.path.exists(path + 'pdf files/'+ file) :\n",
    "        shutil.move(path + file, path + 'pdf files/'+ file)\n",
    "    else :\n",
    "        print(\"There are files in this path that were not moved.\")"
   ]
  },
  {
   "cell_type": "code",
   "execution_count": null,
   "id": "c96382e6",
   "metadata": {},
   "outputs": [],
   "source": []
  }
 ],
 "metadata": {
  "kernelspec": {
   "display_name": "Python 3 (ipykernel)",
   "language": "python",
   "name": "python3"
  },
  "language_info": {
   "codemirror_mode": {
    "name": "ipython",
    "version": 3
   },
   "file_extension": ".py",
   "mimetype": "text/x-python",
   "name": "python",
   "nbconvert_exporter": "python",
   "pygments_lexer": "ipython3",
   "version": "3.10.9"
  }
 },
 "nbformat": 4,
 "nbformat_minor": 5
}
