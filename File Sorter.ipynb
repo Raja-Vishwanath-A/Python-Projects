{
 "cells": [
  {
   "cell_type": "code",
   "execution_count": null,
   "id": "9edb06c6",
   "metadata": {},
   "outputs": [],
   "source": [
    "import os,shutil"
   ]
  },
  {
   "cell_type": "code",
   "execution_count": null,
   "id": "60a9f290",
   "metadata": {},
   "outputs": [],
   "source": [
    "path = r\"C:/Users/RV/Desktop/Data Analyst/Python Files/Automatic File Sorter/\""
   ]
  },
  {
   "cell_type": "markdown",
   "id": "8b3c0fda",
   "metadata": {},
   "source": [
    "1) Notice that we have used forward slashes for path because backward slash gives an error"
   ]
  },
  {
   "cell_type": "code",
   "execution_count": null,
   "id": "663d9f04",
   "metadata": {},
   "outputs": [],
   "source": [
    "file_name = os.listdir(path)\n",
    "print(file_name)\n",
    "folder_names = ['doc files', 'png files', 'pdf files']"
   ]
  },
  {
   "cell_type": "code",
   "execution_count": null,
   "id": "bceb107e",
   "metadata": {},
   "outputs": [],
   "source": [
    "for loop in range(0,3) :\n",
    "    if not os.path.exists(path + folder_names[loop]) :\n",
    "        print(path + folder_names[loop])\n",
    "        os.makedirs(path + folder_names[loop])"
   ]
  },
  {
   "cell_type": "code",
   "execution_count": null,
   "id": "26910932",
   "metadata": {},
   "outputs": [],
   "source": [
    "for file in file_name :\n",
    "    if ('.docx' in file) and not os.path.exists(path + 'doc files/'+ file) :\n",
    "        shutil.move(path + file, path + 'doc files/'+ file)\n",
    "    elif ('.png' in file) and not os.path.exists(path + 'png files/'+ file) :\n",
    "        shutil.move(path + file, path + 'png files/'+ file)\n",
    "    elif ('.pdf' in file) and not os.path.exists(path + 'pdf files/'+ file) :\n",
    "        shutil.move(path + file, path + 'pdf files/'+ file)\n",
    "    else :\n",
    "        print(\"There are files in this path that were not moved.\")"
   ]
  },
  {
   "cell_type": "code",
   "execution_count": null,
   "id": "258c774b",
   "metadata": {},
   "outputs": [],
   "source": []
  }
 ],
 "metadata": {
  "kernelspec": {
   "display_name": "Python 3 (ipykernel)",
   "language": "python",
   "name": "python3"
  },
  "language_info": {
   "codemirror_mode": {
    "name": "ipython",
    "version": 3
   },
   "file_extension": ".py",
   "mimetype": "text/x-python",
   "name": "python",
   "nbconvert_exporter": "python",
   "pygments_lexer": "ipython3",
   "version": "3.10.9"
  }
 },
 "nbformat": 4,
 "nbformat_minor": 5
}
