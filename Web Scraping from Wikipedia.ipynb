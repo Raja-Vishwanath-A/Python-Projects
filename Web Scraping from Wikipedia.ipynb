{
 "cells": [
  {
   "cell_type": "code",
   "execution_count": null,
   "id": "0232307a",
   "metadata": {},
   "outputs": [],
   "source": [
    "    from bs4 import BeautifulSoup\n",
    "    import requests"
   ]
  },
  {
   "cell_type": "code",
   "execution_count": null,
   "id": "5491e52d",
   "metadata": {},
   "outputs": [],
   "source": [
    "url = 'https://en.wikipedia.org/wiki/List_of_largest_companies_in_the_United_States_by_revenue'\n",
    "\n",
    "page = requests.get(url)\n",
    "\n",
    "soup = BeautifulSoup(page.text, 'html')"
   ]
  },
  {
   "cell_type": "code",
   "execution_count": null,
   "id": "5407864d",
   "metadata": {},
   "outputs": [],
   "source": [
    "table = soup.find_all('table')[1]"
   ]
  },
  {
   "cell_type": "code",
   "execution_count": null,
   "id": "b8d652c3",
   "metadata": {},
   "outputs": [],
   "source": [
    "world_titles = table.find_all('th')"
   ]
  },
  {
   "cell_type": "code",
   "execution_count": null,
   "id": "a07c5f8d",
   "metadata": {},
   "outputs": [],
   "source": [
    "world_table_titles = [title.text.strip() for title in world_titles]"
   ]
  },
  {
   "cell_type": "code",
   "execution_count": null,
   "id": "dc4f86ef",
   "metadata": {},
   "outputs": [],
   "source": [
    "print(world_table_titles)"
   ]
  },
  {
   "cell_type": "code",
   "execution_count": null,
   "id": "cb75a52a",
   "metadata": {},
   "outputs": [],
   "source": [
    "import pandas as pd"
   ]
  },
  {
   "cell_type": "code",
   "execution_count": null,
   "id": "38957731",
   "metadata": {},
   "outputs": [],
   "source": [
    "df = pd.DataFrame(columns = world_table_titles )\n",
    "df"
   ]
  },
  {
   "cell_type": "code",
   "execution_count": null,
   "id": "9059fdb7",
   "metadata": {},
   "outputs": [],
   "source": [
    "table.find_all('tr')"
   ]
  },
  {
   "cell_type": "code",
   "execution_count": null,
   "id": "1e2f2022",
   "metadata": {},
   "outputs": [],
   "source": [
    "column_data = table.find_all('tr')\n",
    "for row in column_data[1:] :\n",
    "    row_data = row.find_all('td')\n",
    "    individual_row_data = [data.text.strip() for data in row_data]\n",
    "    length = len(df)\n",
    "    df.loc[length] = individual_row_data"
   ]
  },
  {
   "cell_type": "code",
   "execution_count": null,
   "id": "e721714b",
   "metadata": {},
   "outputs": [],
   "source": [
    "df"
   ]
  },
  {
   "cell_type": "code",
   "execution_count": null,
   "id": "34f2800b",
   "metadata": {},
   "outputs": [],
   "source": [
    "df.to_csv(r'C:\\Users\\RV\\Desktop\\Data Analyst\\Python Files\\WebScraping Wiki.csv', index = False)"
   ]
  },
  {
   "cell_type": "code",
   "execution_count": null,
   "id": "3e098046",
   "metadata": {},
   "outputs": [],
   "source": []
  },
  {
   "cell_type": "code",
   "execution_count": null,
   "id": "df5f46a6",
   "metadata": {},
   "outputs": [],
   "source": []
  }
 ],
 "metadata": {
  "kernelspec": {
   "display_name": "Python 3 (ipykernel)",
   "language": "python",
   "name": "python3"
  },
  "language_info": {
   "codemirror_mode": {
    "name": "ipython",
    "version": 3
   },
   "file_extension": ".py",
   "mimetype": "text/x-python",
   "name": "python",
   "nbconvert_exporter": "python",
   "pygments_lexer": "ipython3",
   "version": "3.10.9"
  }
 },
 "nbformat": 4,
 "nbformat_minor": 5
}
