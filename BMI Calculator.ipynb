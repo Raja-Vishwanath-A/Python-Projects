{
 "cells": [
  {
   "cell_type": "code",
   "execution_count": 23,
   "id": "bf2122e7",
   "metadata": {},
   "outputs": [
    {
     "name": "stdout",
     "output_type": "stream",
     "text": [
      "Enter your name : Raja\n",
      "Enter your weight in pounds : 165\n",
      "Enter your height in inches : 68\n",
      "BMI :  25.09\n",
      "Raja, you are overweight.\n"
     ]
    }
   ],
   "source": [
    "name = input(\"Enter your name : \")\n",
    "weight = int(input(\"Enter your weight in pounds : \"))\n",
    "height = int(input(\"Enter your height in inches : \"))\n",
    "\n",
    "BMI = (weight*703)/(height*height)\n",
    "BMI = round(BMI,2)\n",
    "print(\"BMI : \", BMI)\n",
    "if (BMI > 0) :\n",
    "    if (BMI < 18.5) :\n",
    "        print(name + \", you are underweight.\")\n",
    "    elif (BMI < 24.9) :\n",
    "        print(name + \", you are normal weight.\")\n",
    "    elif (BMI < 29.9) :\n",
    "        print(name + \", you are overweight.\")\n",
    "    elif (BMI < 34.9) :\n",
    "        print(name + \", you are obese.\")\n",
    "    elif (BMI < 39.9) :\n",
    "        print(name + \", you are severely obese.\")\n",
    "    elif (BMI > 39.9) :\n",
    "        print(name + \", you are morbidly obese.\")\n",
    "else :\n",
    "    print(name + \", enter valid inputs.\")"
   ]
  },
  {
   "cell_type": "code",
   "execution_count": null,
   "id": "2c8dfd24",
   "metadata": {},
   "outputs": [],
   "source": []
  },
  {
   "cell_type": "code",
   "execution_count": null,
   "id": "4ffd399b",
   "metadata": {},
   "outputs": [],
   "source": []
  },
  {
   "cell_type": "code",
   "execution_count": null,
   "id": "25d04aa5",
   "metadata": {},
   "outputs": [],
   "source": []
  }
 ],
 "metadata": {
  "kernelspec": {
   "display_name": "Python 3 (ipykernel)",
   "language": "python",
   "name": "python3"
  },
  "language_info": {
   "codemirror_mode": {
    "name": "ipython",
    "version": 3
   },
   "file_extension": ".py",
   "mimetype": "text/x-python",
   "name": "python",
   "nbconvert_exporter": "python",
   "pygments_lexer": "ipython3",
   "version": "3.10.9"
  }
 },
 "nbformat": 4,
 "nbformat_minor": 5
}
